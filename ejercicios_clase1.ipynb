{
  "nbformat": 4,
  "nbformat_minor": 0,
  "metadata": {
    "colab": {
      "provenance": [],
      "authorship_tag": "ABX9TyNHYG7anmYPRA+p5VEMdVvI",
      "include_colab_link": true
    },
    "kernelspec": {
      "name": "python3",
      "display_name": "Python 3"
    },
    "language_info": {
      "name": "python"
    }
  },
  "cells": [
    {
      "cell_type": "markdown",
      "metadata": {
        "id": "view-in-github",
        "colab_type": "text"
      },
      "source": [
        "<a href=\"https://colab.research.google.com/github/marxrose/Curso_Ciencia_de_Datos/blob/main/ejercicios_clase1.ipynb\" target=\"_parent\"><img src=\"https://colab.research.google.com/assets/colab-badge.svg\" alt=\"Open In Colab\"/></a>"
      ]
    },
    {
      "cell_type": "code",
      "execution_count": 3,
      "metadata": {
        "colab": {
          "base_uri": "https://localhost:8080/"
        },
        "id": "vx2WQBVlTq0S",
        "outputId": "6bf5a832-0878-4bdb-dd0f-6b85a43dbb09"
      },
      "outputs": [
        {
          "name": "stdout",
          "output_type": "stream",
          "text": [
            "Ingrese su nombre aquí María\n",
            "¿Cuántos años tienes? 22\n"
          ]
        }
      ],
      "source": [
        "nombre = input(\"Ingrese su nombre aquí \")\n",
        "edad = input(\"¿Cuántos años tienes? \")"
      ]
    },
    {
      "cell_type": "code",
      "source": [
        "print(\"Hola\",nombre,\"veo que tienes\",edad,\"años\")"
      ],
      "metadata": {
        "colab": {
          "base_uri": "https://localhost:8080/"
        },
        "id": "W19EDOMZUcdw",
        "outputId": "eb254d82-3eab-4a4a-d935-25c8c07054ff"
      },
      "execution_count": 5,
      "outputs": [
        {
          "output_type": "stream",
          "name": "stdout",
          "text": [
            "Hola María veo que tienes 22 años\n"
          ]
        }
      ]
    },
    {
      "cell_type": "code",
      "source": [
        "número = int(input(\"Por favor, ingrese un número aleatorio del 1 al 10 \"))"
      ],
      "metadata": {
        "colab": {
          "base_uri": "https://localhost:8080/"
        },
        "id": "zHz5eiXbUmOP",
        "outputId": "8133738a-cd29-48e1-ffc3-e718840a59ba"
      },
      "execution_count": 12,
      "outputs": [
        {
          "name": "stdout",
          "output_type": "stream",
          "text": [
            "Por favor, ingrese un número aleatorio del 1 al 10 35\n"
          ]
        }
      ]
    },
    {
      "cell_type": "code",
      "source": [
        "type(número)"
      ],
      "metadata": {
        "colab": {
          "base_uri": "https://localhost:8080/"
        },
        "id": "90wn0-vGVDgi",
        "outputId": "9c4808cc-dca1-4ed0-a7a6-b32f48e00eda"
      },
      "execution_count": 14,
      "outputs": [
        {
          "output_type": "execute_result",
          "data": {
            "text/plain": [
              "int"
            ]
          },
          "metadata": {},
          "execution_count": 14
        }
      ]
    },
    {
      "cell_type": "code",
      "source": [
        "if número > 0:\n",
        "  print(\"El número ingresado es positivo\")\n",
        "elif número < 0:\n",
        "  print(\"El número ingresado es negativo\")\n",
        "else:\n",
        "  print(\"El número ingresado es incorrecto\")"
      ],
      "metadata": {
        "colab": {
          "base_uri": "https://localhost:8080/"
        },
        "id": "UlKuOt5kWEVa",
        "outputId": "8b7d9e47-e33d-4e52-a1dc-6b8790102f59"
      },
      "execution_count": 16,
      "outputs": [
        {
          "output_type": "stream",
          "name": "stdout",
          "text": [
            "El número ingresado es positivo\n"
          ]
        }
      ]
    },
    {
      "cell_type": "code",
      "source": [
        "numero_1 = (int(input(\"Ingrese un numero aleatorio \")))\n",
        "numero_2 = (int(input(\"Ingrese un segundo numero aleatorio \")))"
      ],
      "metadata": {
        "colab": {
          "base_uri": "https://localhost:8080/"
        },
        "id": "4qJTgo6aXDaL",
        "outputId": "11dc5f0c-b87d-420a-e93e-6382a54924c8"
      },
      "execution_count": 19,
      "outputs": [
        {
          "name": "stdout",
          "output_type": "stream",
          "text": [
            "Ingrese un numero aleatorio 22\n",
            "Ingrese un segundo numero aleatorio 54\n"
          ]
        }
      ]
    },
    {
      "cell_type": "code",
      "source": [
        "if numero_1 > numero_2:\n",
        "  print(numero_1,\"es mayor que\",numero_2)\n",
        "elif numero_2 > numero_1:\n",
        "  print(numero_2,\"es mayor que\",numero_1)\n",
        "else:\n",
        "  print(\"Los números son iguales\")"
      ],
      "metadata": {
        "colab": {
          "base_uri": "https://localhost:8080/"
        },
        "id": "6siVmOmRXu1g",
        "outputId": "7813041e-b55f-4f56-ca7b-4e30d41f7838"
      },
      "execution_count": 27,
      "outputs": [
        {
          "output_type": "stream",
          "name": "stdout",
          "text": [
            "54 es mayor que 22\n"
          ]
        }
      ]
    },
    {
      "cell_type": "code",
      "source": [
        "# Solicito al usuario que ingrese su calificacion, y le digo al programa que lo considere como un int\n",
        "calificacion = int(input(\"Ingrese la calificación obtenida en el examen (del 0 al 100): \" ))"
      ],
      "metadata": {
        "colab": {
          "base_uri": "https://localhost:8080/"
        },
        "id": "tXZGDM6vZZF_",
        "outputId": "10a7d04a-594d-40fb-efa2-a331f733a100"
      },
      "execution_count": 46,
      "outputs": [
        {
          "name": "stdout",
          "output_type": "stream",
          "text": [
            "Ingrese la calificación obtenida en el examen (del 0 al 100): 54\n"
          ]
        }
      ]
    },
    {
      "cell_type": "code",
      "source": [
        "# Determino la numeracion/calificacion\n",
        "if calificacion >= 90 and calificacion <= 100:\n",
        "  letra_calificacion = \"A\"\n",
        "elif calificacion >= 80 and calificacion <= 90:\n",
        "  letra_calificacion = \"B\"\n",
        "elif calificacion >= 70 and calificacion <= 80:\n",
        "  letra_calificacion = \"C\"\n",
        "elif calificacion >= 60 and calificacion <= 70:\n",
        "  letra_calificacion = \"D\"\n",
        "else:\n",
        "  letra_calificacion = \"F\""
      ],
      "metadata": {
        "id": "rBhM_gXIaut5"
      },
      "execution_count": 47,
      "outputs": []
    },
    {
      "cell_type": "code",
      "source": [
        "# Imprimo la calificacion que corresponde\n",
        "print(\"Tu calificación es\",letra_calificacion)"
      ],
      "metadata": {
        "colab": {
          "base_uri": "https://localhost:8080/"
        },
        "id": "HANaiZaBbdou",
        "outputId": "32131323-28bd-4b1c-b9d2-9424465d6ddb"
      },
      "execution_count": 48,
      "outputs": [
        {
          "output_type": "stream",
          "name": "stdout",
          "text": [
            "Tu calificación es F\n"
          ]
        }
      ]
    }
  ]
}