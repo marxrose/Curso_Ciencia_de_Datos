{
  "nbformat": 4,
  "nbformat_minor": 0,
  "metadata": {
    "colab": {
      "provenance": []
    },
    "kernelspec": {
      "name": "python3",
      "display_name": "Python 3"
    },
    "language_info": {
      "name": "python"
    }
  },
  "cells": [
    {
      "cell_type": "code",
      "execution_count": 3,
      "metadata": {
        "colab": {
          "base_uri": "https://localhost:8080/"
        },
        "id": "tUZRHHtTsMsJ",
        "outputId": "b99d3550-8057-4ff6-d839-1cce21d9c5d8"
      },
      "outputs": [
        {
          "output_type": "execute_result",
          "data": {
            "text/plain": [
              "list"
            ]
          },
          "metadata": {},
          "execution_count": 3
        }
      ],
      "source": [
        "nombres = [\"ana\",\"juan\"]\n",
        "type(nombres) # built int data type"
      ]
    },
    {
      "cell_type": "code",
      "source": [
        "ana = [\"mujer\",30,[\"Coco\",\"Perla\"],False] #lista de elementos\n",
        "type(ana)"
      ],
      "metadata": {
        "colab": {
          "base_uri": "https://localhost:8080/"
        },
        "id": "hcfuRRJDuE69",
        "outputId": "01442311-3b0c-4b24-c668-9922b933988a"
      },
      "execution_count": 9,
      "outputs": [
        {
          "output_type": "execute_result",
          "data": {
            "text/plain": [
              "list"
            ]
          },
          "metadata": {},
          "execution_count": 9
        }
      ]
    },
    {
      "cell_type": "code",
      "source": [
        "print(len(ana))"
      ],
      "metadata": {
        "colab": {
          "base_uri": "https://localhost:8080/"
        },
        "id": "zvhWC3lUvIYP",
        "outputId": "96b9a394-60b9-4224-fbda-4db4950c6e36"
      },
      "execution_count": 14,
      "outputs": [
        {
          "output_type": "stream",
          "name": "stdout",
          "text": [
            "4\n"
          ]
        }
      ]
    },
    {
      "cell_type": "code",
      "source": [
        "ana\n",
        "ana[0]"
      ],
      "metadata": {
        "colab": {
          "base_uri": "https://localhost:8080/",
          "height": 35
        },
        "id": "MxDF4P51wcYg",
        "outputId": "91e95b5b-eb87-47b3-c9bd-8c494c1fc4f0"
      },
      "execution_count": 17,
      "outputs": [
        {
          "output_type": "execute_result",
          "data": {
            "text/plain": [
              "'mujer'"
            ],
            "application/vnd.google.colaboratory.intrinsic+json": {
              "type": "string"
            }
          },
          "metadata": {},
          "execution_count": 17
        }
      ]
    },
    {
      "cell_type": "code",
      "source": [
        "print(\"El primer elemento es:\",ana[0])"
      ],
      "metadata": {
        "colab": {
          "base_uri": "https://localhost:8080/"
        },
        "id": "Q6lF_J6pxR-1",
        "outputId": "8fcf1292-4a9f-4aec-f54e-6dc3a03f16cb"
      },
      "execution_count": 19,
      "outputs": [
        {
          "output_type": "stream",
          "name": "stdout",
          "text": [
            "El primer elemento es: mujer\n"
          ]
        }
      ]
    },
    {
      "cell_type": "code",
      "source": [
        "print(\"El último elemento de la lista\",ana[-1])"
      ],
      "metadata": {
        "colab": {
          "base_uri": "https://localhost:8080/"
        },
        "id": "PocOQ7s7yiSr",
        "outputId": "ace42666-a6f8-477f-e832-49fdd69bddb9"
      },
      "execution_count": 25,
      "outputs": [
        {
          "output_type": "stream",
          "name": "stdout",
          "text": [
            "El último elemento de la lista False\n"
          ]
        }
      ]
    },
    {
      "cell_type": "code",
      "source": [
        "hobbies_de_ana = [\"entrenar\",\"leer\",\"mirar series\",\"escuchar música\",\"salir a caminar\",\"cocinar\",\"tocar la guitarra\"]"
      ],
      "metadata": {
        "id": "ocEW0SDY0NX1"
      },
      "execution_count": 29,
      "outputs": []
    },
    {
      "cell_type": "code",
      "source": [
        "print(\"a\",nombres[-1], \"le gusta\",hobbies_de_ana[-1]) #-1 es lo que indica el ultimo elemento de la lista"
      ],
      "metadata": {
        "colab": {
          "base_uri": "https://localhost:8080/"
        },
        "id": "P9UN4qxy0238",
        "outputId": "2e987869-2c8a-42f5-df0d-17954fd797a4"
      },
      "execution_count": 33,
      "outputs": [
        {
          "output_type": "stream",
          "name": "stdout",
          "text": [
            "a juan le gusta tocar la guitarra\n"
          ]
        }
      ]
    },
    {
      "cell_type": "code",
      "source": [
        "print(hobbies_de_ana[2:5]) #imprime del tercer al quinto elemento"
      ],
      "metadata": {
        "colab": {
          "base_uri": "https://localhost:8080/"
        },
        "id": "GhwMxDAA1vEx",
        "outputId": "ad10db79-4234-4177-d5c6-72b4e842ca5f"
      },
      "execution_count": 36,
      "outputs": [
        {
          "output_type": "stream",
          "name": "stdout",
          "text": [
            "['mirar series', 'escuchar música', 'salir a caminar']\n"
          ]
        }
      ]
    },
    {
      "cell_type": "code",
      "source": [
        "hobbies_de_ana[::1] # imprime todo el vector"
      ],
      "metadata": {
        "colab": {
          "base_uri": "https://localhost:8080/"
        },
        "id": "tZDd6flh3Skr",
        "outputId": "9be74972-ae49-4829-cfbb-c76b069b5d6b"
      },
      "execution_count": 39,
      "outputs": [
        {
          "output_type": "execute_result",
          "data": {
            "text/plain": [
              "['entrenar',\n",
              " 'leer',\n",
              " 'mirar series',\n",
              " 'escuchar música',\n",
              " 'salir a caminar',\n",
              " 'cocinar',\n",
              " 'tocar la guitarra']"
            ]
          },
          "metadata": {},
          "execution_count": 39
        }
      ]
    },
    {
      "cell_type": "code",
      "source": [
        "hobbies_de_ana[::2] #imprime los pares"
      ],
      "metadata": {
        "colab": {
          "base_uri": "https://localhost:8080/"
        },
        "id": "iCFpH3Aq3avQ",
        "outputId": "bad239a6-b236-4dc2-ec4b-02543a9a5d3e"
      },
      "execution_count": 41,
      "outputs": [
        {
          "output_type": "execute_result",
          "data": {
            "text/plain": [
              "['entrenar', 'mirar series', 'salir a caminar', 'tocar la guitarra']"
            ]
          },
          "metadata": {},
          "execution_count": 41
        }
      ]
    },
    {
      "cell_type": "code",
      "source": [
        "if \"viajar\" in hobbies_de_ana: # compruebo si un elemento está en un vector\n",
        "  print(\"viajar es genial\")\n",
        "else:\n",
        "  print(\"Como que no te gusta viajar!\")"
      ],
      "metadata": {
        "colab": {
          "base_uri": "https://localhost:8080/"
        },
        "id": "c3sOY-o03sy7",
        "outputId": "0a4d657a-648c-4f5c-83cb-e6fbc9b08494"
      },
      "execution_count": 46,
      "outputs": [
        {
          "output_type": "stream",
          "name": "stdout",
          "text": [
            "Como que no te gusta viajar!\n"
          ]
        }
      ]
    },
    {
      "cell_type": "code",
      "source": [
        "hobbies_de_ana[0] = \"viajar\" # puedo modificar los elementos de una lista, intercambiando o reemplazando\n",
        "print(hobbies_de_ana)"
      ],
      "metadata": {
        "colab": {
          "base_uri": "https://localhost:8080/"
        },
        "id": "WCRHhH_k6GBK",
        "outputId": "5da3aca2-bbe5-4268-c3df-d52bf6720b65"
      },
      "execution_count": 50,
      "outputs": [
        {
          "output_type": "stream",
          "name": "stdout",
          "text": [
            "['viajar', 'leer', 'mirar series', 'escuchar música', 'salir a caminar', 'cocinar', 'tocar la guitarra']\n"
          ]
        }
      ]
    },
    {
      "cell_type": "code",
      "source": [
        "hobbies_de_ana.append(\"entrenar\") # agrego un elemento a la lista\n",
        "print(hobbies_de_ana)"
      ],
      "metadata": {
        "colab": {
          "base_uri": "https://localhost:8080/"
        },
        "id": "UmNkQkiL7jg7",
        "outputId": "39cb850b-df7f-4e89-8062-c42865cd7def"
      },
      "execution_count": 53,
      "outputs": [
        {
          "output_type": "stream",
          "name": "stdout",
          "text": [
            "['viajar', 'leer', 'mirar series', 'escuchar música', 'salir a caminar', 'cocinar', 'tocar la guitarra', 'entrenar', 'entrenar', 'entrenar']\n"
          ]
        }
      ]
    },
    {
      "cell_type": "code",
      "source": [
        "hobbies_de_ana.insert(0,\"estudiar\") # agrego elemento a una posicion determinada dentro del vector\n",
        "print(hobbies_de_ana)"
      ],
      "metadata": {
        "colab": {
          "base_uri": "https://localhost:8080/"
        },
        "id": "ajslznHW8L1N",
        "outputId": "0a318f09-888b-4ff2-e2cd-bb73938023fc"
      },
      "execution_count": 65,
      "outputs": [
        {
          "output_type": "stream",
          "name": "stdout",
          "text": [
            "['estudiar', 'estudiar', 'estudiar', 'estudiar', 'viajar', 'leer', 'mirar series', 'escuchar música']\n"
          ]
        }
      ]
    },
    {
      "cell_type": "code",
      "source": [
        "# try es una funcion que me permite manejar errores y ejecutar el programa\n",
        "try: hobbies_de_ana[100]\n",
        "except:\n",
        "  print(\"No se ha podido encontrar ese elemento\")\n",
        "print(\"No te preocupes\")"
      ],
      "metadata": {
        "colab": {
          "base_uri": "https://localhost:8080/"
        },
        "id": "uhk_ScAe8izS",
        "outputId": "d5755c87-c20d-40d2-c7cd-ed4c0540bbb9"
      },
      "execution_count": 58,
      "outputs": [
        {
          "output_type": "stream",
          "name": "stdout",
          "text": [
            "No se ha podido encontrar ese elemento\n",
            "No te preocupes\n"
          ]
        }
      ]
    },
    {
      "cell_type": "code",
      "source": [
        "#elimino un elemento de la lista\n",
        "hobbies_de_ana.pop()\n",
        "hobbies_de_ana.pop()"
      ],
      "metadata": {
        "colab": {
          "base_uri": "https://localhost:8080/",
          "height": 35
        },
        "id": "szVaQIFrDS5e",
        "outputId": "8b4c9d00-f0c8-4ef0-d98e-c940f1f4f3af"
      },
      "execution_count": 63,
      "outputs": [
        {
          "output_type": "execute_result",
          "data": {
            "text/plain": [
              "'salir a caminar'"
            ],
            "application/vnd.google.colaboratory.intrinsic+json": {
              "type": "string"
            }
          },
          "metadata": {},
          "execution_count": 63
        }
      ]
    },
    {
      "cell_type": "code",
      "source": [
        "hobbies_de_ana"
      ],
      "metadata": {
        "colab": {
          "base_uri": "https://localhost:8080/"
        },
        "id": "IRzJ3AczD4g7",
        "outputId": "fdd47708-ca07-44a5-d0e9-29203bdf08e4"
      },
      "execution_count": 66,
      "outputs": [
        {
          "output_type": "execute_result",
          "data": {
            "text/plain": [
              "['estudiar',\n",
              " 'estudiar',\n",
              " 'estudiar',\n",
              " 'estudiar',\n",
              " 'viajar',\n",
              " 'leer',\n",
              " 'mirar series',\n",
              " 'escuchar música']"
            ]
          },
          "metadata": {},
          "execution_count": 66
        }
      ]
    },
    {
      "cell_type": "code",
      "source": [
        "for x in nombres:\n",
        "  print(\"Hola:\",x)"
      ],
      "metadata": {
        "colab": {
          "base_uri": "https://localhost:8080/"
        },
        "id": "yHswr2tFGK3h",
        "outputId": "b81a509f-dfb8-4a71-ef54-411e18183ab0"
      },
      "execution_count": 69,
      "outputs": [
        {
          "output_type": "stream",
          "name": "stdout",
          "text": [
            "Hola: ana\n",
            "Hola: juan\n"
          ]
        }
      ]
    },
    {
      "cell_type": "code",
      "source": [
        "for name in nombres:\n",
        "  if name == \"ana\":\n",
        "    print(\"Hola Ana! Sos la mejor\")\n",
        "  else:\n",
        "    print(\"Hola\",name)\n"
      ],
      "metadata": {
        "colab": {
          "base_uri": "https://localhost:8080/"
        },
        "id": "6vu-y2xxIiGL",
        "outputId": "4dad8d4d-92f1-419a-baab-8c32ef6e360e"
      },
      "execution_count": 76,
      "outputs": [
        {
          "output_type": "stream",
          "name": "stdout",
          "text": [
            "Hola Ana! Sos la mejor\n",
            "Hola juan\n"
          ]
        }
      ]
    },
    {
      "cell_type": "code",
      "source": [
        "# Diccionario"
      ],
      "metadata": {
        "id": "0n_2MXgLNwDX"
      },
      "execution_count": null,
      "outputs": []
    },
    {
      "cell_type": "code",
      "source": [
        "Ana = {\n",
        "    \"nombre\":\"Ana\",\n",
        "    \"edad\":30,\n",
        "    \"profesión\":\"maestra\",\n",
        "    \"hobbie\":[\"pasear\",\"bailar\",\"tomar mate\"],\n",
        "    \"mascotas\":[\n",
        "        {\n",
        "            \"especie\":\"perro\",            # Diccionario dentro de diccionario\n",
        "            \"nombre\":\"Coco\"\n",
        "        },\n",
        "        {\n",
        "            \"especie\":\"tortuga\",\n",
        "            \"nombre\":\"Martita\",\n",
        "        }\n",
        "    ]\n",
        "}"
      ],
      "metadata": {
        "id": "jQLjeR5II8Yg"
      },
      "execution_count": 78,
      "outputs": []
    },
    {
      "cell_type": "code",
      "source": [
        "print(Ana)"
      ],
      "metadata": {
        "colab": {
          "base_uri": "https://localhost:8080/"
        },
        "id": "6pP6_CXGO6wx",
        "outputId": "98ec392d-e11e-45d4-dca8-de2011bc4f46"
      },
      "execution_count": 80,
      "outputs": [
        {
          "output_type": "stream",
          "name": "stdout",
          "text": [
            "{'nombre': 'Ana', 'edad': 30, 'profesión': 'maestra', 'hobbie': ['pasear', 'bailar', 'tomar mate'], 'mascotas': [{'especie': 'perro', 'nombre': 'Coco'}, {'especie': 'tortuga', 'nombre': 'Martita'}]}\n"
          ]
        }
      ]
    },
    {
      "cell_type": "code",
      "source": [
        "Ana[\"profesión\"]"
      ],
      "metadata": {
        "colab": {
          "base_uri": "https://localhost:8080/",
          "height": 35
        },
        "id": "a7hJGc96O-ZV",
        "outputId": "738c1a10-7038-4580-e085-695dd0d1e2f7"
      },
      "execution_count": 87,
      "outputs": [
        {
          "output_type": "execute_result",
          "data": {
            "text/plain": [
              "'maestra'"
            ],
            "application/vnd.google.colaboratory.intrinsic+json": {
              "type": "string"
            }
          },
          "metadata": {},
          "execution_count": 87
        }
      ]
    },
    {
      "cell_type": "code",
      "source": [
        "Ana[\"edad\"]"
      ],
      "metadata": {
        "colab": {
          "base_uri": "https://localhost:8080/"
        },
        "id": "l7bilPnUQDsI",
        "outputId": "02195a5c-7cd3-454f-8db1-0b6d3b949b86"
      },
      "execution_count": 89,
      "outputs": [
        {
          "output_type": "execute_result",
          "data": {
            "text/plain": [
              "30"
            ]
          },
          "metadata": {},
          "execution_count": 89
        }
      ]
    },
    {
      "cell_type": "code",
      "source": [
        "for hobbies in Ana[\"hobbie\"]:  # También puedo recorrer los elementos dentro de un diccionario\n",
        "  print(\"A Ana le gusta\",hobbies)"
      ],
      "metadata": {
        "colab": {
          "base_uri": "https://localhost:8080/"
        },
        "id": "UHaNehaQQYe_",
        "outputId": "12ae3fc0-e22d-445a-ef24-b8db2203505b"
      },
      "execution_count": 93,
      "outputs": [
        {
          "output_type": "stream",
          "name": "stdout",
          "text": [
            "A Ana le gusta pasear\n",
            "A Ana le gusta bailar\n",
            "A Ana le gusta tomar mate\n"
          ]
        }
      ]
    },
    {
      "cell_type": "code",
      "source": [
        "for hobbies in Ana[\"hobbie\"]:\n",
        "  if hobbies == \"tomar mate\":\n",
        "    print(\"Eso está genial\")\n",
        "  else:\n",
        "   print(\"Eso no está tan bueno\")"
      ],
      "metadata": {
        "colab": {
          "base_uri": "https://localhost:8080/"
        },
        "id": "lHZDwwixRfHf",
        "outputId": "e6e438b1-caf5-4c06-bd06-bce73e1b8803"
      },
      "execution_count": 101,
      "outputs": [
        {
          "output_type": "stream",
          "name": "stdout",
          "text": [
            "Eso no está tan bueno\n",
            "Eso no está tan bueno\n",
            "Eso está genial\n"
          ]
        }
      ]
    },
    {
      "cell_type": "code",
      "source": [
        "print(Ana[\"hobbie\"][-1]) #Ubico último elemento de la lista"
      ],
      "metadata": {
        "colab": {
          "base_uri": "https://localhost:8080/"
        },
        "id": "r9C_a60GSZnC",
        "outputId": "a40df709-7440-4e79-e26b-ffda94db6599"
      },
      "execution_count": 103,
      "outputs": [
        {
          "output_type": "stream",
          "name": "stdout",
          "text": [
            "tomar mate\n"
          ]
        }
      ]
    },
    {
      "cell_type": "code",
      "source": [
        "print(Ana[\"mascotas\"][0]) # Posición, ubico, elemento dentro de un diccionario"
      ],
      "metadata": {
        "colab": {
          "base_uri": "https://localhost:8080/"
        },
        "id": "b3Pf72FeSlLE",
        "outputId": "6535372c-4f0b-4432-f79f-2a16708dad6f"
      },
      "execution_count": 105,
      "outputs": [
        {
          "output_type": "stream",
          "name": "stdout",
          "text": [
            "{'especie': 'perro', 'nombre': 'Coco'}\n"
          ]
        }
      ]
    },
    {
      "cell_type": "code",
      "source": [
        "print(Ana[\"mascotas\"][0][\"nombre\"]) # Indico posición de lo que quiero ver y el tipo de dato que quiero ver"
      ],
      "metadata": {
        "colab": {
          "base_uri": "https://localhost:8080/"
        },
        "id": "--CJN8f7S7NY",
        "outputId": "a4d3f421-a2a4-4ccc-d1d0-6f4fde31ea2f"
      },
      "execution_count": 110,
      "outputs": [
        {
          "output_type": "stream",
          "name": "stdout",
          "text": [
            "Coco\n"
          ]
        }
      ]
    },
    {
      "cell_type": "code",
      "source": [
        "print(\"La mascota de Ana se llama\",Ana[\"mascotas\"][0][\"nombre\"])"
      ],
      "metadata": {
        "colab": {
          "base_uri": "https://localhost:8080/"
        },
        "id": "dGAA2UBKTkUs",
        "outputId": "85fcb75f-0acb-4da3-f3e3-059812311af8"
      },
      "execution_count": 113,
      "outputs": [
        {
          "output_type": "stream",
          "name": "stdout",
          "text": [
            "La mascota de Ana se llama Coco\n"
          ]
        }
      ]
    },
    {
      "cell_type": "code",
      "source": [
        "print(Ana[\"mascotas\"][0][\"nombre\"],\"es un\",Ana[\"mascotas\"][0][\"especie\"])"
      ],
      "metadata": {
        "colab": {
          "base_uri": "https://localhost:8080/"
        },
        "id": "OpKkS3I7UNu4",
        "outputId": "a550be59-9870-45e0-eeba-ea13013fc81c"
      },
      "execution_count": 114,
      "outputs": [
        {
          "output_type": "stream",
          "name": "stdout",
          "text": [
            "Coco es un perro\n"
          ]
        }
      ]
    }
  ]
}