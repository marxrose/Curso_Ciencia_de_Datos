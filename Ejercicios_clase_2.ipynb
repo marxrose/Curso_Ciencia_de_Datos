{
  "nbformat": 4,
  "nbformat_minor": 0,
  "metadata": {
    "colab": {
      "provenance": [],
      "authorship_tag": "ABX9TyMd7+ahAlVS67MStMxBcWof",
      "include_colab_link": true
    },
    "kernelspec": {
      "name": "python3",
      "display_name": "Python 3"
    },
    "language_info": {
      "name": "python"
    }
  },
  "cells": [
    {
      "cell_type": "markdown",
      "metadata": {
        "id": "view-in-github",
        "colab_type": "text"
      },
      "source": [
        "<a href=\"https://colab.research.google.com/github/marxrose/Curso_Ciencia_de_Datos/blob/main/Ejercicios_clase_2.ipynb\" target=\"_parent\"><img src=\"https://colab.research.google.com/assets/colab-badge.svg\" alt=\"Open In Colab\"/></a>"
      ]
    },
    {
      "cell_type": "code",
      "execution_count": 6,
      "metadata": {
        "id": "04-2GIlp-KKw"
      },
      "outputs": [],
      "source": [
        "materias_cursadas = [\"Fundamentos de Ciencia Política I\",\"Fundamentos de Ciencia Política II\",\"Economía\",\"Teoría Política y Social I\",\"Teoría Política y Social II\",\"Teoría y Derecho Constitucional\",\"Teoría Sociológica\",\"Filosofía y Métodos de las Ciencias Sociales\",\"Historia Contemporánea\",\"Historia Latinoamericana\",\"Historia Argentina\",\"Teoría Política Contemporánea\",\"Filosofía\",\"Sociología Política\",\"Metodología de la Investigación en Ciencia Política I\",\"Metodología de la Investigación en Ciencia Política II\",\"Política Latinoamericana\",\"Sistemas Políticos Comparados\",\"Teoría de las Relaciones Internacionales\"]"
      ]
    },
    {
      "cell_type": "code",
      "source": [
        "materias_cursadas"
      ],
      "metadata": {
        "colab": {
          "base_uri": "https://localhost:8080/"
        },
        "id": "VqevLh8z_6ZD",
        "outputId": "fb83f24d-1989-4687-cc8d-60b2029e94de"
      },
      "execution_count": 7,
      "outputs": [
        {
          "output_type": "execute_result",
          "data": {
            "text/plain": [
              "['Fundamentos de Ciencia Política I',\n",
              " 'Fundamentos de Ciencia Política II',\n",
              " 'Economía',\n",
              " 'Teoría Política y Social I',\n",
              " 'Teoría Política y Social II',\n",
              " 'Teoría y Derecho Constitucional',\n",
              " 'Teoría Sociológica',\n",
              " 'Filosofía y Métodos de las Ciencias Sociales',\n",
              " 'Historia Contemporánea',\n",
              " 'Historia Latinoamericana',\n",
              " 'Historia Argentina',\n",
              " 'Teoría Política Contemporánea',\n",
              " 'Filosofía',\n",
              " 'Sociología Política',\n",
              " 'Metodología de la Investigación en Ciencia Política I',\n",
              " 'Metodología de la Investigación en Ciencia Política II',\n",
              " 'Política Latinoamericana',\n",
              " 'Sistemas Políticos Comparados',\n",
              " 'Teoría de las Relaciones Internacionales']"
            ]
          },
          "metadata": {},
          "execution_count": 7
        }
      ]
    },
    {
      "cell_type": "code",
      "source": [
        "for materias in materias_cursadas:\n",
        "  print(\"Completaste:\",materias)"
      ],
      "metadata": {
        "colab": {
          "base_uri": "https://localhost:8080/"
        },
        "id": "b2Gf5JWRAAH2",
        "outputId": "c2c52f13-d20f-4a90-cd9a-0b975b1b7593"
      },
      "execution_count": 9,
      "outputs": [
        {
          "output_type": "stream",
          "name": "stdout",
          "text": [
            "Completaste: Fundamentos de Ciencia Política I\n",
            "Completaste: Fundamentos de Ciencia Política II\n",
            "Completaste: Economía\n",
            "Completaste: Teoría Política y Social I\n",
            "Completaste: Teoría Política y Social II\n",
            "Completaste: Teoría y Derecho Constitucional\n",
            "Completaste: Teoría Sociológica\n",
            "Completaste: Filosofía y Métodos de las Ciencias Sociales\n",
            "Completaste: Historia Contemporánea\n",
            "Completaste: Historia Latinoamericana\n",
            "Completaste: Historia Argentina\n",
            "Completaste: Teoría Política Contemporánea\n",
            "Completaste: Filosofía\n",
            "Completaste: Sociología Política\n",
            "Completaste: Metodología de la Investigación en Ciencia Política I\n",
            "Completaste: Metodología de la Investigación en Ciencia Política II\n",
            "Completaste: Política Latinoamericana\n",
            "Completaste: Sistemas Políticos Comparados\n",
            "Completaste: Teoría de las Relaciones Internacionales\n"
          ]
        }
      ]
    },
    {
      "cell_type": "code",
      "source": [
        "números = [73, 42, 18, 56, 91, 27, 64, 37, 5, 68, 12, 83, 22, 49, 2, 95, 31, 77, 59, 10, 44, 70, 8, 61, 3, 78, 51, 14, 96, 67, 25, 60, 7, 55, 19, 88, 38, 69, 13, 74, 47, 24, 81, 33, 6, 71, 4, 72, 29, 82, 53, 20, 90, 46, 9, 75, 35, 86, 65, 11, 62, 30, 54, 21, 43, 50, 28, 76, 15, 87, 16, 66, 1, 85, 41, 57, 32, 94, 80, 17, 52, 45, 92, 36, 63, 89, 34, 58, 26, 84, 48, 40, 79, 99, 98, 97, 93, 62, 23, 100]\n",
        "suma = sum(números)\n",
        "print(\"El resultado es:\",suma)"
      ],
      "metadata": {
        "colab": {
          "base_uri": "https://localhost:8080/"
        },
        "id": "SBdasN9BAYW_",
        "outputId": "3dfc2314-771c-449c-c85b-a354b305da35"
      },
      "execution_count": 18,
      "outputs": [
        {
          "output_type": "stream",
          "name": "stdout",
          "text": [
            "El resultado es: 5073\n"
          ]
        }
      ]
    },
    {
      "cell_type": "code",
      "source": [
        "sum(números)"
      ],
      "metadata": {
        "colab": {
          "base_uri": "https://localhost:8080/"
        },
        "id": "-4_oD01EBmUW",
        "outputId": "a018c7d4-50b8-4b2f-8274-0572e084e40b"
      },
      "execution_count": 20,
      "outputs": [
        {
          "output_type": "execute_result",
          "data": {
            "text/plain": [
              "5073"
            ]
          },
          "metadata": {},
          "execution_count": 20
        }
      ]
    },
    {
      "cell_type": "code",
      "source": [
        "max(números)"
      ],
      "metadata": {
        "colab": {
          "base_uri": "https://localhost:8080/"
        },
        "id": "K8hwzMWSBn2Z",
        "outputId": "cc189950-64c7-4e93-ff68-cb88b775a140"
      },
      "execution_count": 22,
      "outputs": [
        {
          "output_type": "execute_result",
          "data": {
            "text/plain": [
              "100"
            ]
          },
          "metadata": {},
          "execution_count": 22
        }
      ]
    },
    {
      "cell_type": "code",
      "source": [
        "suma = sum(números)\n",
        "cantidad = len(números)\n",
        "promedio = suma / cantidad\n",
        "print(\"El promedio es:\",promedio)"
      ],
      "metadata": {
        "colab": {
          "base_uri": "https://localhost:8080/"
        },
        "id": "fXrS6IzOBpqG",
        "outputId": "80cc4888-bcef-4eae-dca6-1617b9697636"
      },
      "execution_count": 24,
      "outputs": [
        {
          "output_type": "stream",
          "name": "stdout",
          "text": [
            "El promedio es: 50.73\n"
          ]
        }
      ]
    },
    {
      "cell_type": "code",
      "source": [
        "# Diccionarios"
      ],
      "metadata": {
        "id": "OzLfxF0tB4Hb"
      },
      "execution_count": 26,
      "outputs": []
    },
    {
      "cell_type": "code",
      "source": [
        "calificaciones = {\n",
        "    \"María\":95,\n",
        "    \"Pablo\":76,\n",
        "    \"Juan\":67,\n",
        "    \"Martín\":34,\n",
        "    \"Julia\":57\n",
        "}"
      ],
      "metadata": {
        "id": "lkxDMvokCQG0"
      },
      "execution_count": 48,
      "outputs": []
    },
    {
      "cell_type": "code",
      "source": [
        "nombre_estudiante = input(\"Ingrese su nombre \" )"
      ],
      "metadata": {
        "colab": {
          "base_uri": "https://localhost:8080/"
        },
        "id": "m8MCYltTF2kd",
        "outputId": "4e64acb6-0aa2-4f65-d4a0-969bfea8cbea"
      },
      "execution_count": 69,
      "outputs": [
        {
          "name": "stdout",
          "output_type": "stream",
          "text": [
            "Ingrese su nombre Pedro\n"
          ]
        }
      ]
    },
    {
      "cell_type": "code",
      "source": [
        "if nombre_estudiante in calificaciones:\n",
        "  calificacion = calificaciones[nombre_estudiante]\n",
        "  print(f\"La calificación de {nombre_estudiante} es {calificacion}.\")\n",
        "else:\n",
        "        print(f\"{nombre_estudiante} no se encuentra en la lista\")"
      ],
      "metadata": {
        "colab": {
          "base_uri": "https://localhost:8080/"
        },
        "id": "CEASd0uiGRxn",
        "outputId": "1bd55d19-59aa-4dfa-dfab-44097236c333"
      },
      "execution_count": 73,
      "outputs": [
        {
          "output_type": "stream",
          "name": "stdout",
          "text": [
            "Pedro no se encuentra en la lista\n"
          ]
        }
      ]
    },
    {
      "cell_type": "code",
      "source": [
        "Paz = {\n",
        "    \"nombre\":\"Maria Paz\",\n",
        "    \"edad\":22,\n",
        "    \"carrera\":\"Ciencia Política\",\n",
        "    \"hobbies\":[\n",
        "        \"leer\",\"escuchar música\",\"pasear\"\n",
        "        ],\n",
        "    \"mascotas\":[\n",
        "        {\n",
        "            \"nombre\":\"Coco\",\n",
        "            \"edad\":15,\n",
        "            \"especie\":\"perro\"\n",
        "        }\n",
        "    ]\n",
        "}"
      ],
      "metadata": {
        "id": "wDooXl-DI7QU"
      },
      "execution_count": 105,
      "outputs": []
    },
    {
      "cell_type": "code",
      "source": [
        "print(\"Paz se llama\",Paz[\"nombre\"])"
      ],
      "metadata": {
        "colab": {
          "base_uri": "https://localhost:8080/"
        },
        "id": "UjIl6Iy1Jp0e",
        "outputId": "74df3c4e-cd68-40a1-a759-fb1b47c43963"
      },
      "execution_count": 82,
      "outputs": [
        {
          "output_type": "stream",
          "name": "stdout",
          "text": [
            "Paz se llama Maria Paz\n"
          ]
        }
      ]
    },
    {
      "cell_type": "code",
      "source": [
        "print(Paz[\"mascotas\"])"
      ],
      "metadata": {
        "colab": {
          "base_uri": "https://localhost:8080/"
        },
        "id": "c8Q-Iv4UKD3x",
        "outputId": "d8501a95-c5cd-45df-ce2b-ad6280696c6c"
      },
      "execution_count": 84,
      "outputs": [
        {
          "output_type": "stream",
          "name": "stdout",
          "text": [
            "[{'nombre': 'Coco', 'edad': 15, 'especie': 'perro'}]\n"
          ]
        }
      ]
    },
    {
      "cell_type": "code",
      "source": [
        "print(Paz[\"mascotas\"][0][\"nombre\"])"
      ],
      "metadata": {
        "colab": {
          "base_uri": "https://localhost:8080/"
        },
        "id": "pDyMUxzSKJO-",
        "outputId": "f1a8725e-3464-4698-acb9-0639f27727ed"
      },
      "execution_count": 87,
      "outputs": [
        {
          "output_type": "stream",
          "name": "stdout",
          "text": [
            "Coco\n"
          ]
        }
      ]
    },
    {
      "cell_type": "code",
      "source": [
        "print(\"La mascota de Paz es un\",Paz[\"mascotas\"][0][\"especie\"])"
      ],
      "metadata": {
        "colab": {
          "base_uri": "https://localhost:8080/"
        },
        "id": "dT3MI-DDKicz",
        "outputId": "3090426d-3390-446d-c502-81bd080563e2"
      },
      "execution_count": 89,
      "outputs": [
        {
          "output_type": "stream",
          "name": "stdout",
          "text": [
            "La mascota de Paz es un perro\n"
          ]
        }
      ]
    },
    {
      "cell_type": "code",
      "source": [
        "print(\"Uno de los hobbies de Paz es\",Paz[\"hobbies\"][0])"
      ],
      "metadata": {
        "colab": {
          "base_uri": "https://localhost:8080/"
        },
        "id": "fKw5-__YKvVC",
        "outputId": "f693316d-8de0-4341-8ba7-07f6a31c4338"
      },
      "execution_count": 91,
      "outputs": [
        {
          "output_type": "stream",
          "name": "stdout",
          "text": [
            "Uno de los hobbies de Paz es leer\n"
          ]
        }
      ]
    },
    {
      "cell_type": "code",
      "source": [
        "print(\"Los hobbies de Paz son:\",Paz[\"hobbies\"])"
      ],
      "metadata": {
        "colab": {
          "base_uri": "https://localhost:8080/"
        },
        "id": "GH-G7vDgK6a6",
        "outputId": "63c2ce92-8672-4ad3-a4d3-3cb3499ea71e"
      },
      "execution_count": 96,
      "outputs": [
        {
          "output_type": "stream",
          "name": "stdout",
          "text": [
            "Los hobbies de Paz son: ['leer', 'escuchar música', 'pasear']\n"
          ]
        }
      ]
    },
    {
      "cell_type": "code",
      "source": [
        "print(\"La cantidad de hobbies de Paz es:\",len(Paz[\"hobbies\"]))"
      ],
      "metadata": {
        "colab": {
          "base_uri": "https://localhost:8080/"
        },
        "id": "BE8uKH51LMQK",
        "outputId": "1a9b65cc-c54a-48e6-c3f0-1104e439c17f"
      },
      "execution_count": 98,
      "outputs": [
        {
          "output_type": "stream",
          "name": "stdout",
          "text": [
            "La cantidad de hobbies de Paz es: 3\n"
          ]
        }
      ]
    },
    {
      "cell_type": "code",
      "source": [
        "print(Paz[\"hobbies\"][-1])"
      ],
      "metadata": {
        "colab": {
          "base_uri": "https://localhost:8080/"
        },
        "id": "l4b9oi5rLYoa",
        "outputId": "baf730d6-d851-48d1-9a8e-4a5de8646969"
      },
      "execution_count": 100,
      "outputs": [
        {
          "output_type": "stream",
          "name": "stdout",
          "text": [
            "pasear\n"
          ]
        }
      ]
    },
    {
      "cell_type": "code",
      "source": [
        "print(Paz[\"hobbies\"][0:2:1])"
      ],
      "metadata": {
        "colab": {
          "base_uri": "https://localhost:8080/"
        },
        "id": "DTP7n6bXLiLE",
        "outputId": "436ff530-b3ef-493f-ac5e-82544e7f78aa"
      },
      "execution_count": 106,
      "outputs": [
        {
          "output_type": "stream",
          "name": "stdout",
          "text": [
            "['leer', 'escuchar música']\n"
          ]
        }
      ]
    },
    {
      "cell_type": "code",
      "source": [
        "if \"meditar\" in Paz[\"hobbies\"]:\n",
        "  print(\"Es bueno para la salud\")\n",
        "else:\n",
        "  print(\"Eso no me gusta\")"
      ],
      "metadata": {
        "colab": {
          "base_uri": "https://localhost:8080/"
        },
        "id": "OzWnIVyzLxxG",
        "outputId": "6c462a38-cca0-4e8d-bec3-e055bdb0b6e5"
      },
      "execution_count": 112,
      "outputs": [
        {
          "output_type": "stream",
          "name": "stdout",
          "text": [
            "Eso no me gusta\n"
          ]
        }
      ]
    },
    {
      "cell_type": "code",
      "source": [
        "for hobbies in Paz[\"hobbies\"]:\n",
        "  print(\"A Paz le gusta\",hobbies)"
      ],
      "metadata": {
        "colab": {
          "base_uri": "https://localhost:8080/"
        },
        "id": "Y0IKp4T9MhGI",
        "outputId": "bb942943-0a14-4c21-bd22-36b66ad132cf"
      },
      "execution_count": 118,
      "outputs": [
        {
          "output_type": "stream",
          "name": "stdout",
          "text": [
            "A Paz le gusta leer\n",
            "A Paz le gusta escuchar música\n",
            "A Paz le gusta pasear\n"
          ]
        }
      ]
    },
    {
      "cell_type": "code",
      "source": [
        "frutas = {\n",
        "    \"banana\":23,\n",
        "    \"uvas\":43,\n",
        "    \"sandías\":89,\n",
        "    \"melones\":90\n",
        "}\n",
        "print(frutas[\"banana\"])\n",
        "type(frutas)\n",
        "type(\"bananas\")\n",
        "print(\"La cantidad de bananas son\",frutas[\"banana\"])\n"
      ],
      "metadata": {
        "colab": {
          "base_uri": "https://localhost:8080/"
        },
        "id": "heVUCszLODYB",
        "outputId": "48e1d3b9-a0ba-48db-9480-5ae1b39c7207"
      },
      "execution_count": 129,
      "outputs": [
        {
          "output_type": "stream",
          "name": "stdout",
          "text": [
            "23\n",
            "La cantidad de bananas son 23\n"
          ]
        }
      ]
    },
    {
      "cell_type": "code",
      "source": [
        "total_de_frutas = sum(frutas.values())\n",
        "print(\"La cantidad total de frutas es:\",total_de_frutas)"
      ],
      "metadata": {
        "colab": {
          "base_uri": "https://localhost:8080/"
        },
        "id": "eUQAYlGBRYfg",
        "outputId": "05638ee8-b5bd-4fd2-af3e-866e239ad2b2"
      },
      "execution_count": 131,
      "outputs": [
        {
          "output_type": "stream",
          "name": "stdout",
          "text": [
            "La cantidad total de frutas es: 245\n"
          ]
        }
      ]
    }
  ]
}